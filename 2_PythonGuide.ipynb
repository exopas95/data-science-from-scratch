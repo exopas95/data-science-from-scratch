{
 "cells": [
  {
   "cell_type": "markdown",
   "metadata": {},
   "source": [
    "# 파이썬 속성 강좌\n",
    "가장 기본적인 부분 부터 틀리기 쉬운 부분까지 넓은 범위의 파이썬 다루고 있다.\n",
    "이 장에서는 파이썬에 대한 기본적인 내용보다는 헷갈리기 쉬운, 틀리기 쉬운 \n",
    "파이썬 구문들에 대해서 알아보고자 한다."
   ]
  },
  {
   "cell_type": "markdown",
   "metadata": {},
   "source": [
    "## 1. Dictionay에서 Key값 처리하기\n",
    "딕셔너리의 키는 수정할 수 없으며 리스트를 키로 사용할 수 없다. 예를 들어 문서에서 단어의 빈도수를 세어 보는 중이라고 상상해 보자. 가장 직관적인 방법은 단어를 키로, 빈도수를 값으로 지정하는 딕셔너리를 생성하는 것이다. 이때, 각 단어가 딕셔너리에 이미 존재하면 값을 증가시키고 존재하지 않는다면 새로운 키와 값을 추가해 주면 된다."
   ]
  },
  {
   "cell_type": "code",
   "execution_count": 24,
   "metadata": {},
   "outputs": [
    {
     "name": "stdout",
     "output_type": "stream",
     "text": [
      "{'a': 2, 'b': 1, 'c': 3, 'd': 1, 'e': 1}\n"
     ]
    }
   ],
   "source": [
    "word_counts = {}\n",
    "document = [\"a\", \"a\", \"b\", \"c\", \"c\", \"c\", \"d\", \"e\"]\n",
    "for word in document:\n",
    "    if word in word_counts:\n",
    "        word_counts[word] += 1\n",
    "    else:\n",
    "        word_counts[word] = 1\n",
    "print(word_counts)"
   ]
  },
  {
   "cell_type": "markdown",
   "metadata": {},
   "source": [
    "**try/except** 구문을 사용하여 예외를 처리하면서 딕셔너리를 생성하는 방법도 있다. "
   ]
  },
  {
   "cell_type": "code",
   "execution_count": 25,
   "metadata": {},
   "outputs": [
    {
     "name": "stdout",
     "output_type": "stream",
     "text": [
      "{'a': 2, 'b': 1, 'c': 3, 'd': 1, 'e': 1}\n"
     ]
    }
   ],
   "source": [
    "word_counts = {}\n",
    "document = [\"a\", \"a\", \"b\", \"c\", \"c\", \"c\", \"d\", \"e\"]\n",
    "for word in document:\n",
    "    try:\n",
    "        word_counts[word] += 1\n",
    "    except KeyError:\n",
    "        word_counts[word] = 1\n",
    "print(word_counts)"
   ]
  },
  {
   "cell_type": "markdown",
   "metadata": {},
   "source": [
    "세 번째 방법은 존재하지 않는 키를 적절하게 처리해 주는 **get**을 사용해서 딕셔너리를 생성하는 방법이다."
   ]
  },
  {
   "cell_type": "code",
   "execution_count": 26,
   "metadata": {},
   "outputs": [
    {
     "name": "stdout",
     "output_type": "stream",
     "text": [
      "{'a': 2, 'b': 1, 'c': 3, 'd': 1, 'e': 1}\n"
     ]
    }
   ],
   "source": [
    "word_counts = {}\n",
    "document = [\"a\", \"a\", \"b\", \"c\", \"c\", \"c\", \"d\", \"e\"]\n",
    "for word in document:\n",
    "    previous_count = word_counts.get(word, 0)\n",
    "    word_counts[word] = previous_count + 1\n",
    "print(word_counts)"
   ]
  },
  {
   "cell_type": "markdown",
   "metadata": {},
   "source": [
    "위 세가지 방버은 모두 dictionary를 사용한 복잡한 방법들이다. 이런 경우 **defaultdict**를 사용하면 편해진다. **defaultdict**와 평범한 딕셔너리의 유일한 차이점은 만약 존재하지 않는 키가 주어진다면 **defaultdict**는 이 키와 인자에서 주어진 값으로 dict에 새로운 항목을 추가해 준다는 것이다. "
   ]
  },
  {
   "cell_type": "code",
   "execution_count": 27,
   "metadata": {},
   "outputs": [
    {
     "name": "stdout",
     "output_type": "stream",
     "text": [
      "defaultdict(<class 'int'>, {'a': 2, 'b': 1, 'c': 3, 'd': 1, 'e': 1})\n"
     ]
    }
   ],
   "source": [
    "from collections import defaultdict\n",
    "\n",
    "word_counts = defaultdict(int)\n",
    "document = [\"a\", \"a\", \"b\", \"c\", \"c\", \"c\", \"d\", \"e\"]\n",
    "for word in document:\n",
    "    word_counts[word] += 1\n",
    "print(word_counts)"
   ]
  },
  {
   "cell_type": "markdown",
   "metadata": {},
   "source": [
    "## 2. Counter\n",
    "**Counter**는 연속된 값을 defaultdict(int)와 유사한 객체로 변환해 주며, 키와 값의 빈도를 연결시켜 준다. 특히 특정 문서에서 단어의 개수를 셀 때도 유용하다."
   ]
  },
  {
   "cell_type": "code",
   "execution_count": 28,
   "metadata": {},
   "outputs": [
    {
     "name": "stdout",
     "output_type": "stream",
     "text": [
      "Counter({0: 2, 1: 1, 2: 1})\n",
      "Counter({'c': 3, 'a': 2, 'b': 1, 'd': 1, 'e': 1})\n"
     ]
    }
   ],
   "source": [
    "from collections import Counter\n",
    "c = Counter([0, 1, 2, 0])\n",
    "print(c)\n",
    "\n",
    "document = [\"a\", \"a\", \"b\", \"c\", \"c\", \"c\", \"d\", \"e\"]\n",
    "word_counts = Counter(document)\n",
    "print(word_counts)"
   ]
  },
  {
   "cell_type": "markdown",
   "metadata": {},
   "source": [
    "## 3. Assert\n",
    "**Asert**는 코드가 제대로 작성되었는지 확인하는 방법이다. 타입(type)이나 자동 테스트(automated test)를 통해 코드가 제대로 작성되었는지 확인할 수 있다. assert는 지정된 조건이 충족되지 않는다면 Assertion Error를 반환한다."
   ]
  },
  {
   "cell_type": "code",
   "execution_count": 34,
   "metadata": {},
   "outputs": [],
   "source": [
    "def smallest_item(xs):\n",
    "    return min(xs)\n",
    "\n",
    "assert smallest_item([10, 20, 5, 40]) == 5\n",
    "assert smallest_item([1, 0, -1, 2]) == -1\n",
    "assert 1 + 1 == 2, \"1 shoud equal 2 but didn't\"    #조건이 충족되지 않을 때 출력하고 싶은 문구를 추가할 수도 있다."
   ]
  },
  {
   "cell_type": "markdown",
   "metadata": {},
   "source": [
    "## 4. Iterator & Generator\n",
    "리스트는 순서나 인덱스만 알고 있으면 쉽게 특정 항목을 가져올 수 있다는 장점이 있다. 하지만 이러한 장점은 경우에 따라 큰 단점이 될 수도 있다. 가령 10억 개의 항목으로 구성된 리스트를 생성하려면 컴퓨터의 메모리가 부족해질 수 있다. 만약 항목을 한 개씩 처리하고 싶다면 리스트 전체를 가지고 있을 필요가 없다. 앞부분의 몇몇 값만 필요한데도 10억 개의 항목을 갖는 리스트 전체를 생성하는 것은 매우 비효율적이다. <br>\n",
    "__제너레이터(generator)__ 는 주로 for문을 통해서 반복하며, 제너레이터의 각 항목은 필요한 순간에 그때그때 생성된다. 제너레이터를 만든느 한 가지 방법은 함수와 yield를 활용하는 것이다. <br>\n",
    "\n",
    "제너레이터의 동작 순서는 다음과 같다.\n",
    "- for문 반복 -> generater_range() 실행 <br>\n",
    "- while 안에서 yield를 만나고 return, 이후 상태 유지 <br>\n",
    "- return한 값을 출력하고 generate_range() 다시 실행 <br>\n",
    "- 처음이 아닌, yield부터 실행된다. <br>\n",
    "\n",
    "자세한 설명은 다음 [링크](https://bluese05.tistory.com/56)를 참고하자. <br>"
   ]
  },
  {
   "cell_type": "code",
   "execution_count": 35,
   "metadata": {},
   "outputs": [],
   "source": [
    "def generate_range(n):\n",
    "    i = 0\n",
    "    while i < n:\n",
    "        yield i\n",
    "        i += 1"
   ]
  },
  {
   "cell_type": "code",
   "execution_count": 36,
   "metadata": {},
   "outputs": [
    {
     "name": "stdout",
     "output_type": "stream",
     "text": [
      "i: 0\n",
      "i: 1\n",
      "i: 2\n",
      "i: 3\n",
      "i: 4\n",
      "i: 5\n",
      "i: 6\n",
      "i: 7\n",
      "i: 8\n",
      "i: 9\n"
     ]
    }
   ],
   "source": [
    "for i in generate_range(10):\n",
    "    print(f\"i: {i}\")"
   ]
  },
  {
   "cell_type": "markdown",
   "metadata": {},
   "source": [
    "또한 괄호 안에 for문을 추가하는 방법으로도 제너레이터를 만들 수 있다. 이때 for나 next를 통해서 반복문이 시작되기 전까지는 제너레이터가 생성되지 않는다. 이를 사용하여 정교한 데이터 처리 파이프라인을 만들 수 있다."
   ]
  },
  {
   "cell_type": "code",
   "execution_count": 39,
   "metadata": {},
   "outputs": [],
   "source": [
    "evens_below_20 = (i for i in generate_range(20) if i % 2 == 0)"
   ]
  },
  {
   "cell_type": "markdown",
   "metadata": {},
   "source": [
    "종종 리스트나 제너레이터에서 항목을 하나씩 확인해 볼 경우, 항목의 순서(index)를 반환하고 싶을 때도 있다. 파이썬의 enumerate 함수를 사용하면 (순서, 항목) 형태로 값을 반환할 수 있다."
   ]
  },
  {
   "cell_type": "code",
   "execution_count": 43,
   "metadata": {},
   "outputs": [
    {
     "name": "stdout",
     "output_type": "stream",
     "text": [
      "name 0 is Alice\n",
      "name 1 is Bob\n",
      "name 2 is Charlie\n",
      "name 3 is Debbie\n"
     ]
    }
   ],
   "source": [
    "name = [\"Alice\", \"Bob\", \"Charlie\", \"Debbie\"]\n",
    "\n",
    "for i, name in enumerate(name):\n",
    "    print(f\"name {i} is {name}\")"
   ]
  },
  {
   "cell_type": "markdown",
   "metadata": {},
   "source": [
    "## 5. Random Module\n",
    "데이터 과학을 하다 보면 난수를 생성해야할 때가 자주 있다. 이때 유용하게 사용되는 난수 생성 메소드는 다음과 같다.\n",
    "- seed: random.seed를 통해 매번 고정된 난수를 생성할 수 있다.\n",
    "- randrange: range()에 해당하는 구간 안에서 난수를 생성할 수 있다.\n",
    "- shuffle: shuffle은 리스트의 항목을 임의 순서로 재정렬해 준다.\n",
    "- choice: random.choice 메서드를 사용하면 리스트에서 임의의 항목을 하나 선택할 수 있다.\n",
    "- sample: 중복이 허용되지 않는 임의의 표본 리스트를 만들 수 있다."
   ]
  },
  {
   "cell_type": "code",
   "execution_count": 55,
   "metadata": {},
   "outputs": [
    {
     "name": "stdout",
     "output_type": "stream",
     "text": [
      "random.seed result: 0.5714025946899135\n",
      "random.randrange result: 6\n",
      "random.shuffle result: [7, 9, 5, 3, 6, 4, 2, 1, 8]\n",
      "random.choice result: Alice\n",
      "random.sample result: [33, 31, 20, 4, 15, 47]\n"
     ]
    }
   ],
   "source": [
    "import random\n",
    "\n",
    "# random.seed\n",
    "random.seed(10)\n",
    "print(f\"random.seed result: {random.random()}\")\n",
    "\n",
    "# random.randrange\n",
    "randrange_result = random.randrange(10)\n",
    "print(f\"random.randrange result: {randrange_result}\")\n",
    "\n",
    "# random.shuffle\n",
    "up_to_ten = [1, 2, 3, 4, 5, 6, 7, 8, 9]\n",
    "random.shuffle(up_to_ten)\n",
    "print(f\"random.shuffle result: {up_to_ten}\")\n",
    "\n",
    "# random.choice\n",
    "my_best_friend = random.choice([\"Alice\", \"Bob\", \"Charlie\", \"Debbie\"])\n",
    "print(f\"random.choice result: {my_best_friend}\")\n",
    "\n",
    "# random.sample\n",
    "lottery_numbers = range(60)\n",
    "winning_numbers = random.sample(lottery_numbers, 6)\n",
    "print(f\"random.sample result: {winning_numbers}\")"
   ]
  },
  {
   "cell_type": "markdown",
   "metadata": {},
   "source": [
    "## 6. zip과 인자 언패킹\n",
    "가끔씩 두 개 이상의 리스트를 서로 묶어주고 싶을 때가 있다. zip은 여러 개의 르스트를 서로 상응하는 항목의 튜플로 구성된 리스트로 변환해 준다. 이때, 주어진 리스트의 길이가 서로 다른 경우 zip은 첫 번째 리스트가 끝나면 멈춘다. 묶인 리스트는 인자 언패킹을 사용하여 풀어줄 수도 있다."
   ]
  },
  {
   "cell_type": "code",
   "execution_count": 63,
   "metadata": {},
   "outputs": [
    {
     "name": "stdout",
     "output_type": "stream",
     "text": [
      "[('a', 1), ('b', 2), ('c', 3)]\n",
      "('a', 'b', 'c') (1, 2, 3)\n"
     ]
    }
   ],
   "source": [
    "list1 = ['a', 'b', 'c']\n",
    "list2 = [1, 2, 3]\n",
    "\n",
    "# zip으로 묶어주기\n",
    "zip_list = [pair for pair in zip(list1, list2)]\n",
    "print(zip_list)\n",
    "\n",
    "# 인저 언패킹으로 zip 풀어주기\n",
    "letters, numbers = zip(*zip_list)\n",
    "print(letters, numbers)"
   ]
  },
  {
   "cell_type": "markdown",
   "metadata": {},
   "source": [
    "## 7. args와 kwargs\n",
    "args는 임의의 수의 인자를 받으며 kwargs는 딕셔너리 형태의 args라고 이해하면 편하다. \n",
    "- args: 여러개의 인수를 받을 때 사용\n",
    "- kwargs: 특정 키워드에 반응하는 함수 작성에 사용"
   ]
  },
  {
   "cell_type": "code",
   "execution_count": 65,
   "metadata": {},
   "outputs": [
    {
     "name": "stdout",
     "output_type": "stream",
     "text": [
      "unnamed args: (1, 2)\n",
      "keyword args: {'key': 'word', 'key2': 'word2'}\n"
     ]
    }
   ],
   "source": [
    "def magic(*args, **kwargs):\n",
    "    print(\"unnamed args:\", args)\n",
    "    print(\"keyword args:\", kwargs)\n",
    "\n",
    "magic(1, 2, key=\"word\", key2=\"word2\")"
   ]
  },
  {
   "cell_type": "markdown",
   "metadata": {},
   "source": [
    "## 8. 타입 어노테이션\n",
    "파이썬은 동적 타입의 언어이다. 이는 변수를 올바르게만 사용한다면 변수의 타입은 신경 쓰지 않아도 된다는 뜻이다. 하지만 파이썬에서도 타입을 명시하는 것을 추천하며 이유는 다음과 같다.\n",
    "- 타입 명시는 문서를 작성할 때 매우 중요하다.\n",
    "- mypy처럼 코드를 실행하기 전에 코드를 불러와서 타입 관련된 에러를 검사해 주는 도구가 있다.\n",
    "- 타입을 명시하다 보면 더 깔끔하고 이해하기 쉬운 함수를 만들 수 밖에 없다.\n",
    "- 타입이 명시되어있을 경우, 훨씬 명확하게 코드를 파악할 수 있다.\n",
    "- 코드를 작성하는 에디터의 자동 완성 기능을 활용할 수 있다."
   ]
  },
  {
   "cell_type": "code",
   "execution_count": 67,
   "metadata": {},
   "outputs": [],
   "source": [
    "def total(xs: list) -> float:\n",
    "    return sum(total)"
   ]
  },
  {
   "cell_type": "code",
   "execution_count": 68,
   "metadata": {},
   "outputs": [],
   "source": [
    "from typing import List    # typing 모듈을 사용하면 구체적으로 타입을 명시할 수 있다.\n",
    "\n",
    "def total(xs: List[float]) -> float:\n",
    "    return sum(total)"
   ]
  },
  {
   "cell_type": "code",
   "execution_count": 69,
   "metadata": {},
   "outputs": [],
   "source": [
    "from typing import Optional    # 변수의 타입이 명확하지 않을때 Optional을 사용할 수 있다.\n",
    "\n",
    "values: List[int] = []\n",
    "best_so_far: Optional[float] = None"
   ]
  },
  {
   "cell_type": "code",
   "execution_count": 72,
   "metadata": {},
   "outputs": [],
   "source": [
    "from typing import Dict, Iterable, Tuple\n",
    "\n",
    "counts: Dict[str, int] = {\"data\": 1, \"science\": 2}\n",
    "lazy = True\n",
    "    \n",
    "if lazy:\n",
    "    evens: Iterable[int] = (x for x in range(10) if x % 2 == 0)\n",
    "else:\n",
    "    evens = [0, 2, 4, 6, 8]\n",
    "\n",
    "triple: Tuple[int, float, int] = (10, 2.3, 5)"
   ]
  }
 ],
 "metadata": {
  "kernelspec": {
   "display_name": "Python 3",
   "language": "python",
   "name": "python3"
  },
  "language_info": {
   "codemirror_mode": {
    "name": "ipython",
    "version": 3
   },
   "file_extension": ".py",
   "mimetype": "text/x-python",
   "name": "python",
   "nbconvert_exporter": "python",
   "pygments_lexer": "ipython3",
   "version": "3.8.3"
  }
 },
 "nbformat": 4,
 "nbformat_minor": 4
}
