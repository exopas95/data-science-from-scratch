{
 "cells": [
  {
   "cell_type": "markdown",
   "metadata": {
    "colab_type": "text",
    "id": "view-in-github"
   },
   "source": [
    "<a href=\"https://colab.research.google.com/github/exopas95/data-science-from-scratch/blob/master/1_Introduction.ipynb\" target=\"_parent\"><img src=\"https://colab.research.google.com/assets/colab-badge.svg\" alt=\"Open In Colab\"/></a>"
   ]
  },
  {
   "cell_type": "markdown",
   "metadata": {
    "colab_type": "text",
    "id": "7QTtk_QTy4TJ"
   },
   "source": [
    "# 데이터 과학자란?\n",
    "데이터 과학자란 **지저분한 데이터에서 유용한 규칙을 발견하려는 사람들**이다. <br>\n",
    "데이터과학은 타겟 마켓팅, 조직의 업무 효율성 증진, 공공 보건 개선 등 많은 분야에서 널리 사용되고 있다.\n"
   ]
  },
  {
   "cell_type": "markdown",
   "metadata": {
    "colab_type": "text",
    "id": "6EWBz2p0zwak"
   },
   "source": [
    "## 1. 핵심 인물 찾기\n",
    "어떤 사람들이 데이터 과학자인지, 그리고 데이터 과학이 어느 분야에 적용되고 활용되는지를 알아보았으니 이제 실제로 데이터 과학에 대해서 공부해 보자.\n",
    "먼저 한 집단에 아래 딕셔너리 형태처럼 구성된 10명의 직원들이 각각 고유번호가 있다고 가정해보자. 그리고 각 id의 쌍으로 구성된 친구 관계 데이터인 friendship_pairs가 있다. 예를 들어 firendship_pairs 리스트를 통하여 id가 0인 데이터 과학자 Hero와 id가 1인 데이터 과학자 Dunn이 서로 친구라는 것을 알 수 있다."
   ]
  },
  {
   "cell_type": "code",
   "execution_count": 6,
   "metadata": {
    "colab": {},
    "colab_type": "code",
    "id": "UqA3rL0vzmYS"
   },
   "outputs": [],
   "source": [
    "users = [\n",
    "         {\"id\": 0, \"name\": \"Hero\"},\n",
    "         {\"id\": 1, \"name\": \"Dunn\"},\n",
    "         {\"id\": 2, \"name\": \"Sue\"},\n",
    "         {\"id\": 3, \"name\": \"Chi\"},\n",
    "         {\"id\": 4, \"name\": \"Thor\"},\n",
    "         {\"id\": 5, \"name\": \"Clive\"},\n",
    "         {\"id\": 6, \"name\": \"Hicks\"},\n",
    "         {\"id\": 7, \"name\": \"Devin\"},\n",
    "         {\"id\": 8, \"name\": \"Kate\"},\n",
    "         {\"id\": 9, \"name\": \"Klein\"},\n",
    "]"
   ]
  },
  {
   "cell_type": "code",
   "execution_count": 2,
   "metadata": {
    "colab": {},
    "colab_type": "code",
    "id": "idRER0PH0yGT"
   },
   "outputs": [],
   "source": [
    "friendship_pairs = [(0, 1), (0, 2), (1, 2), (1, 3), (2, 3), (3, 4), \n",
    "                    (4, 5), (5, 6), (5, 7), (6, 8), (7, 8), (8, 9)]"
   ]
  },
  {
   "cell_type": "markdown",
   "metadata": {
    "colab_type": "text",
    "id": "KUXKGAhj1Wae"
   },
   "source": [
    "가령, id가 1인 사용자의 모든 친구를 찾으려면 모든 쌍을 순회해야 한다. 더 빠른 탐색을 위해 딕셔너리를 사용해 보자. 사용자 id를 키로 사용하고 해당 사용자의 모든 친구 목록을 값으로 구성한 딕셔너리를 생성해보자."
   ]
  },
  {
   "cell_type": "code",
   "execution_count": 10,
   "metadata": {
    "colab": {
     "base_uri": "https://localhost:8080/",
     "height": 198
    },
    "colab_type": "code",
    "id": "L044xdOO1j4f",
    "outputId": "d6d1e0d3-6821-4e48-dcfa-e13bd073d4d3"
   },
   "outputs": [
    {
     "data": {
      "text/plain": [
       "{0: [1, 2],\n",
       " 1: [0, 2, 3],\n",
       " 2: [0, 1, 3],\n",
       " 3: [1, 2, 4],\n",
       " 4: [3, 5],\n",
       " 5: [4, 6, 7],\n",
       " 6: [5, 8],\n",
       " 7: [5, 8],\n",
       " 8: [6, 7, 9],\n",
       " 9: [8]}"
      ]
     },
     "execution_count": 10,
     "metadata": {
      "tags": []
     },
     "output_type": "execute_result"
    }
   ],
   "source": [
    "friendships = {user[\"id\"]: [] for user in users}\n",
    "\n",
    "for i, j in friendship_pairs:\n",
    "  friendships[i].append(j)\n",
    "  friendships[j].append(i)\n",
    "\n",
    "friendships"
   ]
  },
  {
   "cell_type": "markdown",
   "metadata": {
    "colab_type": "text",
    "id": "kd0nF0uk5brF"
   },
   "source": [
    "앞서 구한 friendships 딕셔너리를 활용하여 **네트워크상에서 각 사용자의 평균 연결 수**를 구해보자. 먼저 friendships 안 모든 리스트의 길이를 더해서 총 연결 수를 구한다. 그리고 구한 총 합을 사용자의 수로 나누면 평균을 구할 수 있다."
   ]
  },
  {
   "cell_type": "code",
   "execution_count": 14,
   "metadata": {
    "colab": {
     "base_uri": "https://localhost:8080/",
     "height": 35
    },
    "colab_type": "code",
    "id": "w5reRBV55oQ2",
    "outputId": "6cc60f2e-ae07-4aa7-dc9b-f97e0db1646a"
   },
   "outputs": [
    {
     "data": {
      "text/plain": [
       "2.4"
      ]
     },
     "execution_count": 14,
     "metadata": {
      "tags": []
     },
     "output_type": "execute_result"
    }
   ],
   "source": [
    "# user의 친구는 총 몇명인가?\n",
    "def number_of_friends(user):\n",
    "  user_id = user[\"id\"]\n",
    "  friend_ids = friendships[user_id]\n",
    "  return len(friend_ids)\n",
    "\n",
    "total_connections = sum(number_of_friends(user) for user in users)\n",
    "num_users = len(users)\n",
    "avg_connection = total_connections / num_users\n",
    "avg_connection"
   ]
  },
  {
   "cell_type": "markdown",
   "metadata": {
    "colab_type": "text",
    "id": "uWD1JuJi68c4"
   },
   "source": [
    "다음으로 연결 수가 가장 많은 사람, 즉 친구가 가장 많은 사람이 누군지 알아보자. 사용자의 수가 많지 않으므로 '친구가 제일 많은사람'부터 '제일 적은 사람' 순으로 사용자를 정렬해보자."
   ]
  },
  {
   "cell_type": "code",
   "execution_count": 23,
   "metadata": {
    "colab": {
     "base_uri": "https://localhost:8080/",
     "height": 198
    },
    "colab_type": "code",
    "id": "gDncy-OV7EYz",
    "outputId": "954e50ab-2a48-4d80-b9ce-e73307c752ba"
   },
   "outputs": [
    {
     "data": {
      "text/plain": [
       "[(1, 3),\n",
       " (2, 3),\n",
       " (3, 3),\n",
       " (5, 3),\n",
       " (8, 3),\n",
       " (0, 2),\n",
       " (4, 2),\n",
       " (6, 2),\n",
       " (7, 2),\n",
       " (9, 1)]"
      ]
     },
     "execution_count": 23,
     "metadata": {
      "tags": []
     },
     "output_type": "execute_result"
    }
   ],
   "source": [
    "# 친구 수를 value로 가지고 있는 dictionary 생성\n",
    "num_friends_by_id = [(user[\"id\"], number_of_friends(user)) for user in users]\n",
    "\n",
    "# 친구가 제일 많은 사람 순으로 정렬\n",
    "num_friends_by_id.sort(key=lambda id_and_friends: id_and_friends[1], reverse=True)"
   ]
  },
  {
   "cell_type": "markdown",
   "metadata": {
    "colab_type": "text",
    "id": "H53geMOw-pTU"
   },
   "source": [
    "## 2. 친구 추천하기\n",
    "이제 친구 맺기를 더 활발히 하기 위해서 친구 추천 기능을 설계해보자. 사용자의 친구에 대해 그 친구의 친구들을 살펴보고, 사용자의 모든 친구에 대해 똑같은 작업을 반복하고 결과를 저장한다. "
   ]
  },
  {
   "cell_type": "code",
   "execution_count": 41,
   "metadata": {
    "colab": {
     "base_uri": "https://localhost:8080/",
     "height": 35
    },
    "colab_type": "code",
    "id": "u_mmLoR3_I9A",
    "outputId": "910845a7-af29-4445-94d1-553e3a660725"
   },
   "outputs": [
    {
     "data": {
      "text/plain": [
       "[0, 2, 3, 0, 1, 3]"
      ]
     },
     "execution_count": 41,
     "metadata": {
      "tags": []
     },
     "output_type": "execute_result"
    }
   ],
   "source": [
    "# 친구의 친구들 소개\n",
    "def foaf_ids_bad(user):\n",
    "  return [foaf_id for friend_id in friendships[user[\"id\"]] for foaf_id in friendships[friend_id]]\n",
    "\n",
    "# def foaf_ids_bad(user):\n",
    "#   temp = []\n",
    "#   for friend_id in friendships[user[\"id\"]]:\n",
    "#     for foaf_id in friendships[friend_id]:\n",
    "#       temp.append(foaf_id)\n",
    "#   return temp\n",
    "\n",
    "foaf_ids_bad(users[0])"
   ]
  },
  {
   "cell_type": "markdown",
   "metadata": {
    "colab_type": "text",
    "id": "YPfqwqdz_IJ2"
   },
   "source": [
    "위 결과에서 볼 수 있다시피, 현재 친구 추천 기능은 자기 자신을 포함하며, 중복도 포함하는 것을 알 수 있다. 동시에 사용자가 이미 아는 사람을 제외하며 추가적으로 서로가 함께 아는 친구(mutual friends)가 몇 명인지 세어보는 함수를 만들어 보자. 그러면 Chi(id: 3)은 Hero(id: 0)와 함께 아는 친구가 두 명이고, Clive(id: 5)와 함께 아는 친구가 한명이라는 것을 알 수 있다."
   ]
  },
  {
   "cell_type": "code",
   "execution_count": 46,
   "metadata": {
    "colab": {
     "base_uri": "https://localhost:8080/",
     "height": 35
    },
    "colab_type": "code",
    "id": "6PCeOQhDC4UG",
    "outputId": "131e5cd8-3401-4d5d-d431-6cdd45386ec7"
   },
   "outputs": [
    {
     "name": "stdout",
     "output_type": "stream",
     "text": [
      "Counter({0: 2, 5: 1})\n"
     ]
    }
   ],
   "source": [
    "from collections import Counter\n",
    "\n",
    "def friends_of_friends(user):\n",
    "  user_id = user[\"id\"]\n",
    "  return Counter(\n",
    "      foaf_id\n",
    "      for friend_id in friendships[user_id]\n",
    "      for foaf_id in friendships[friend_id]\n",
    "      if foaf_id != user_id                   # 사용자 자신 제외\n",
    "      and foaf_id not in friendships[user_id]  # 사용자의 친구는 제외\n",
    "  )\n",
    "\n",
    "print(friends_of_friends(users[3]))"
   ]
  },
  {
   "cell_type": "markdown",
   "metadata": {
    "colab_type": "text",
    "id": "F2Jp485LFk7g"
   },
   "source": [
    "## 3. 연봉과 경력\n",
    "친구 데이터에 이어 각 사용자들의 연봉이 달러로, 근속 기간이 연 단위로 표기되어있는 데이터를 가지고 있다고 해보자. "
   ]
  },
  {
   "cell_type": "code",
   "execution_count": 54,
   "metadata": {
    "colab": {
     "base_uri": "https://localhost:8080/",
     "height": 295
    },
    "colab_type": "code",
    "id": "nP4kq4sGGIQB",
    "outputId": "2ce00938-96a1-4d0b-e403-a9d66002abb0"
   },
   "outputs": [
    {
     "data": {
      "image/png": "[encoded data removed]",
      "text/plain": [
       "<Figure size 432x288 with 1 Axes>"
      ]
     },
     "metadata": {
      "needs_background": "light",
      "tags": []
     },
     "output_type": "display_data"
    }
   ],
   "source": [
    "from matplotlib import pyplot as plt\n",
    "\n",
    "salaries_and_tenures = [(83000, 8.7), (88000, 8.1),\n",
    "                        (48000, 0.7), (76000, 6),\n",
    "                        (49000, 6.5), (76000, 7.5),\n",
    "                        (60000, 2.5), (83000, 10),\n",
    "                        (48000, 1.9), (63000, 4.2)]\n",
    "\n",
    "x_value = []\n",
    "y_value = []\n",
    "\n",
    "for index in salaries_and_tenures:\n",
    "  y_value.append(index[0])\n",
    "  x_value.append(index[1])\n",
    "\n",
    "plt.xlabel(\"Years Experience\")\n",
    "plt.ylabel(\"Salary\")\n",
    "plt.title(\"Salary by Years Experience\")\n",
    "plt.scatter(x_value, y_value)\n",
    "plt.show()"
   ]
  },
  {
   "cell_type": "markdown",
   "metadata": {
    "colab_type": "text",
    "id": "LAMl39EQISCn"
   },
   "source": [
    "이제 경력을 몇개의 구간으로 나누고 각 연봉을 해당 구간에 대응시켜 보자. 그리고 각 구간의 평균 연봉을 구해보면 흥미로운 결과를 얻을 수 있다."
   ]
  },
  {
   "cell_type": "code",
   "execution_count": 63,
   "metadata": {
    "colab": {
     "base_uri": "https://localhost:8080/",
     "height": 71
    },
    "colab_type": "code",
    "id": "Sif-dpLTIha2",
    "outputId": "9d57bca3-b6c6-46b3-bd5f-e13803d281ee"
   },
   "outputs": [
    {
     "data": {
      "text/plain": [
       "{'between two and five': 61500.0,\n",
       " 'less than two': 48000.0,\n",
       " 'more than five': 75833.33333333333}"
      ]
     },
     "execution_count": 63,
     "metadata": {
      "tags": []
     },
     "output_type": "execute_result"
    }
   ],
   "source": [
    "from collections import defaultdict\n",
    "\n",
    "# 키는 근속 연수, 값은 해당 근속 연수에 대한 연봉 목록\n",
    "salary_by_tenure = defaultdict(list)\n",
    "for salary, tenure in salaries_and_tenures:\n",
    "  salary_by_tenure[tenure].append(salary)\n",
    "\n",
    "# 키는 근속 연수, 값은 해당 근속 연수의 평균 연봉\n",
    "average_salary_by_tenure = {\n",
    "    tenure: sum(salaries) / len(salaries)\n",
    "    for tenure, salaries in salary_by_tenure.items()\n",
    "}\n",
    "\n",
    "# 구간 설정\n",
    "def tenure_bucket(tenure):\n",
    "  if tenure < 2:\n",
    "    return \"less than two\"\n",
    "  elif tenure < 5:\n",
    "    return \"between two and five\"\n",
    "  else:\n",
    "    return \"more than five\"\n",
    "\n",
    "# 연봉을 근속 연수 구간에 대응\n",
    "salary_by_tenure_bucket = defaultdict(list)\n",
    "for salary, tenure in salaries_and_tenures:\n",
    "  bucket = tenure_bucket(tenure)\n",
    "  salary_by_tenure_bucket[bucket].append(salary)\n",
    "\n",
    "# 키는 근속 연수 기간, 값은 해당 구간에 속하는 사용자들의 평균 연봉\n",
    "average_salary_by_bucket = {\n",
    "    tenure_bucket: sum(salaries) / len(salaries)\n",
    "    for tenure_bucket, salaries in salary_by_tenure_bucket.items()\n",
    "}\n",
    "average_salary_by_bucket"
   ]
  },
  {
   "cell_type": "markdown",
   "metadata": {
    "colab_type": "text",
    "id": "yjeywi7U7qw6"
   },
   "source": [
    "# Appendix"
   ]
  },
  {
   "cell_type": "markdown",
   "metadata": {
    "colab_type": "text",
    "id": "pOO-1kFM8AS4"
   },
   "source": [
    "## 1. 파이썬 for문 한줄 쓰기\n",
    "윗 코드는 for문을 평범하게 작성한 코드이며, 아래 코드는 윗 코드를 한줄로 정리한 코드이다. 처음에는 이해가기가 좀 어렵지만, 순서대로 작성한다고 생각하면 어렵지 않다. 예를 들어 **'i에 2를 곱해서 리스트를 만드는데, 그 i는 for문으로 temp에서 가져와'**라는 식으로 말이다. "
   ]
  },
  {
   "cell_type": "code",
   "execution_count": 19,
   "metadata": {
    "colab": {
     "base_uri": "https://localhost:8080/",
     "height": 35
    },
    "colab_type": "code",
    "id": "ql3Bw-l38nr-",
    "outputId": "d043018b-6102-4a84-a218-b7380b2c7ba4"
   },
   "outputs": [
    {
     "data": {
      "text/plain": [
       "[4, 6, 8, 10]"
      ]
     },
     "execution_count": 19,
     "metadata": {
      "tags": []
     },
     "output_type": "execute_result"
    }
   ],
   "source": [
    "temp = list([2, 3, 4, 5])\n",
    "temp_new = list()\n",
    "\n",
    "for i in temp:\n",
    "  temp_new.append(i * 2)\n",
    "temp_new"
   ]
  },
  {
   "cell_type": "code",
   "execution_count": 20,
   "metadata": {
    "colab": {
     "base_uri": "https://localhost:8080/",
     "height": 35
    },
    "colab_type": "code",
    "id": "Ex2b7vPs8nzC",
    "outputId": "03e998d7-8dd3-443c-b534-187af7308d11"
   },
   "outputs": [
    {
     "data": {
      "text/plain": [
       "[4, 6, 8, 10]"
      ]
     },
     "execution_count": 20,
     "metadata": {
      "tags": []
     },
     "output_type": "execute_result"
    }
   ],
   "source": [
    "temp_new = list([i*2 for i in temp])\n",
    "temp_new"
   ]
  },
  {
   "cell_type": "markdown",
   "metadata": {
    "colab_type": "text",
    "id": "Ut2EeIqA8AZo"
   },
   "source": [
    "## 2. Lambda 함수\n",
    "앞서 for문을 한줄로 써서 사용하는 방법에 대해서 알아보았다. 이번에는 lambda함수를 써서 함수를 한줄로 사용하는 방법에 대해 알아보자. 위 코드는 평범하게 함수를 선언한 코드이며, 아래 코드는 lambda를 사용하여 함수를 한줄로 표현한 코드이다. 표현식은 다음과 같다. <br>\n",
    "\n",
    "*lambda 인자 : 표현식*\n",
    "\n",
    "\n",
    "\n"
   ]
  },
  {
   "cell_type": "code",
   "execution_count": 21,
   "metadata": {
    "colab": {
     "base_uri": "https://localhost:8080/",
     "height": 35
    },
    "colab_type": "code",
    "id": "RkEtL3JU7ssd",
    "outputId": "2aff8b82-fea4-4662-8e5b-e55c0ab37766"
   },
   "outputs": [
    {
     "data": {
      "text/plain": [
       "30"
      ]
     },
     "execution_count": 21,
     "metadata": {
      "tags": []
     },
     "output_type": "execute_result"
    }
   ],
   "source": [
    "def hap(x, y):\n",
    "  return x + y\n",
    "\n",
    "hap(10, 20)"
   ]
  },
  {
   "cell_type": "code",
   "execution_count": 22,
   "metadata": {
    "colab": {
     "base_uri": "https://localhost:8080/",
     "height": 35
    },
    "colab_type": "code",
    "id": "TKM0swIN90fQ",
    "outputId": "fce97427-f670-4caf-ebea-5341f9e3507b"
   },
   "outputs": [
    {
     "data": {
      "text/plain": [
       "30"
      ]
     },
     "execution_count": 22,
     "metadata": {
      "tags": []
     },
     "output_type": "execute_result"
    }
   ],
   "source": [
    "(lambda x,y:x+y)(10, 20)"
   ]
  }
 ],
 "metadata": {
  "colab": {
   "authorship_tag": "ABX9TyPqlUwp8Y3/NFeWF5pafbrC",
   "collapsed_sections": [],
   "include_colab_link": true,
   "name": "1_Introduction.ipynb",
   "provenance": []
  },
  "kernelspec": {
   "display_name": "Python 3",
   "language": "python",
   "name": "python3"
  },
  "language_info": {
   "codemirror_mode": {
    "name": "ipython",
    "version": 3
   },
   "file_extension": ".py",
   "mimetype": "text/x-python",
   "name": "python",
   "nbconvert_exporter": "python",
   "pygments_lexer": "ipython3",
   "version": "3.8.3"
  }
 },
 "nbformat": 4,
 "nbformat_minor": 1
}
