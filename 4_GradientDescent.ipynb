{
 "cells": [
  {
   "cell_type": "markdown",
   "metadata": {
    "colab_type": "text",
    "id": "3bsuLBV3Zmjy"
   },
   "source": [
    "# 8장 경사 하강법"
   ]
  },
  {
   "cell_type": "markdown",
   "metadata": {
    "colab_type": "text",
    "id": "cfbj1QasZpuY"
   },
   "source": [
    "## 8.1 경사 하강법에 숨은 의미"
   ]
  },
  {
   "cell_type": "code",
   "execution_count": 8,
   "metadata": {
    "colab": {
     "base_uri": "https://localhost:8080/",
     "height": 35
    },
    "colab_type": "code",
    "executionInfo": {
     "elapsed": 620,
     "status": "ok",
     "timestamp": 1597567423877,
     "user": {
      "displayName": "‍엄세웅[학생](국제대학 국제학과)",
      "photoUrl": "",
      "userId": "01399474654548958341"
     },
     "user_tz": -540
    },
    "id": "noT_QYv6ZgSF",
    "outputId": "c554c6ca-100c-4404-ed73-e6064720df36"
   },
   "outputs": [
    {
     "name": "stdout",
     "output_type": "stream",
     "text": [
      "14\n"
     ]
    }
   ],
   "source": [
    "import numpy as np\n",
    "\n",
    "def sum_of_squares(vec):\n",
    "  return np.square(vec).sum()"
   ]
  },
  {
   "cell_type": "markdown",
   "metadata": {
    "colab_type": "text",
    "id": "SnRLkCzvaDC1"
   },
   "source": [
    "## 8.2 그래디언트 계산하기"
   ]
  },
  {
   "cell_type": "code",
   "execution_count": 13,
   "metadata": {
    "colab": {
     "base_uri": "https://localhost:8080/",
     "height": 281
    },
    "colab_type": "code",
    "executionInfo": {
     "elapsed": 647,
     "status": "ok",
     "timestamp": 1597567731049,
     "user": {
      "displayName": "‍엄세웅[학생](국제대학 국제학과)",
      "photoUrl": "",
      "userId": "01399474654548958341"
     },
     "user_tz": -540
    },
    "id": "OCXiEiDYaFFd",
    "outputId": "c85ba0b7-0d2b-45bd-ef59-cc6cd21bed54"
   },
   "outputs": [
    {
     "data": {
      "image/png": "[encoded data removed]",
      "text/plain": [
       "<Figure size 432x288 with 1 Axes>"
      ]
     },
     "metadata": {
      "needs_background": "light",
      "tags": []
     },
     "output_type": "display_data"
    }
   ],
   "source": [
    "import matplotlib.pyplot as plt\n",
    "\n",
    "# 도함수 \n",
    "def difference_quotient(f, x, h):\n",
    "  return (f(x + h) - f(x)) / h\n",
    "\n",
    "# 제곱함수\n",
    "def square(x):\n",
    "  return x * x\n",
    "\n",
    "# 제곱함수의 도함수\n",
    "def derivative(x):\n",
    "  return 2 * x\n",
    "\n",
    "xs = range(-10, 11)\n",
    "actuals = [derivative(x) for x in xs]\n",
    "estimates = [difference_quotient(square, x, h=0.001) for x in xs]\n",
    "\n",
    "plt.title(\"Actual Derivative svs Estimates\")\n",
    "plt.plot(xs, actuals, 'rx', label='Actual')\n",
    "plt.plot(xs, estimates, 'b+', label='Estimate')\n",
    "plt.legend(loc=9)\n",
    "plt.show()"
   ]
  },
  {
   "cell_type": "code",
   "execution_count": 15,
   "metadata": {
    "colab": {},
    "colab_type": "code",
    "executionInfo": {
     "elapsed": 620,
     "status": "ok",
     "timestamp": 1597567997211,
     "user": {
      "displayName": "‍엄세웅[학생](국제대학 국제학과)",
      "photoUrl": "",
      "userId": "01399474654548958341"
     },
     "user_tz": -540
    },
    "id": "Ge5Jt0J9dg7K"
   },
   "outputs": [],
   "source": [
    "# 편도함수 / 편미분\n",
    "def partial_difference_quotient(f, v, i, h):\n",
    "  w = [v_j + (h if j ==i else 0) for j, v_j in enmerate(v)]\n",
    "  return (f(w) - f(v)) / h\n",
    "\n",
    "# 편도함수의 그래디언트 구하기\n",
    "def estimate_gradient(f, v, h):\n",
    "  return (partial_difference_quotient(f, v, i, h) for i in range(len(v)))"
   ]
  },
  {
   "cell_type": "markdown",
   "metadata": {
    "colab_type": "text",
    "id": "N9jwrcLTdZoE"
   },
   "source": [
    "## 8.3 그래디언트 적용하기"
   ]
  },
  {
   "cell_type": "code",
   "execution_count": null,
   "metadata": {
    "colab": {},
    "colab_type": "code",
    "id": "-gAlqv06ciNe"
   },
   "outputs": [],
   "source": [
    "import random\n",
    "\n",
    "def gradient_step(v, gradient, step_size):\n",
    "  step = scalar_multiply(step_size, gradient)\n",
    "  return\n",
    "\n",
    "def sum_of_squares_gradient(v):\n",
    "  return [2 * v_i for v_i in v]\n",
    "\n",
    "v = [random.uniform(-10, 10) for i in range(3)]\n",
    "\n",
    "for epoch in range(1000):\n",
    "  grad = sum_of_squares_gradient(v)\n",
    "  v = gradient_step(v, grad, -0.01)\n",
    "  print(epoch, v)\n",
    "  "
   ]
  }
 ],
 "metadata": {
  "colab": {
   "authorship_tag": "ABX9TyOoEVRfZHoYsEwlBuHLV9k6",
   "collapsed_sections": [],
   "name": "8_GradientDescent.ipynb",
   "provenance": []
  },
  "kernelspec": {
   "display_name": "Python 3",
   "language": "python",
   "name": "python3"
  },
  "language_info": {
   "codemirror_mode": {
    "name": "ipython",
    "version": 3
   },
   "file_extension": ".py",
   "mimetype": "text/x-python",
   "name": "python",
   "nbconvert_exporter": "python",
   "pygments_lexer": "ipython3",
   "version": "3.8.3"
  }
 },
 "nbformat": 4,
 "nbformat_minor": 1
}
